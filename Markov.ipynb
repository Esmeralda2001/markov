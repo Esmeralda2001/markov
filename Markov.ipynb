{
 "cells": [
  {
   "cell_type": "markdown",
   "metadata": {},
   "source": [
    "# Markov"
   ]
  },
  {
   "cell_type": "code",
   "execution_count": 1,
   "metadata": {},
   "outputs": [],
   "source": [
    "import random\n",
    "import numpy as np\n",
    "\n",
    "class Flumph:\n",
    "    def __init__(self, born, chances):\n",
    "        self.chances = chances\n",
    "        self.born = born\n",
    "        self.states = {\n",
    "            0: \"Hungry\",\n",
    "            1: \"Satisfied\",\n",
    "            2: \"Rushed\",\n",
    "            3: \"Sad\"\n",
    "        }\n",
    "    \n",
    "    def calculateChances(self, matrix):\n",
    "        num = random.uniform(0, 1)\n",
    "\n",
    "        startV = np.dot(matrix, self.chances)\n",
    "\n",
    "        for i in range(len(startV)):\n",
    "            num -= startV[i]\n",
    "            if num < 0:\n",
    "                return startV, i\n",
    "    \n",
    "    def calculateTensor(self, matrix, boolean=False):\n",
    "        if boolean:\n",
    "            startV = np.outer(matrix, self.chances)\n",
    "        else:\n",
    "            startV = np.outer(matrix, np.outer(matrix, self.chances))\n",
    "        return startV"
   ]
  },
  {
   "cell_type": "markdown",
   "metadata": {},
   "source": [
    "Classe 'Flumph'. Iedere Flumph heeft een property 'chances', 'born' en 'states'. \n",
    "'chances' = kansen dat een Flumph zich in x toestand bevindt. \n",
    "'born' = toestand kansen van een pasgeboren Flumph. \n",
    "'states' = de staten waarin een Flumph zich kan bevinden. "
   ]
  },
  {
   "cell_type": "markdown",
   "metadata": {},
   "source": [
    "num is een random getal tussen de 0 en 1. \n",
    "startV is de dot product van de kans vector van een Flumph en de kansen Matrix.\n",
    "\n",
    "In de functie 'calculateChances' wordt dus een random getal tussen 0 en 1 gekozen. Daarna gaat een for loop door alle getallen van startV heen. Als (num = num - startV[i]) < 0 dan wordt 'i' gereturned. "
   ]
  },
  {
   "cell_type": "markdown",
   "metadata": {},
   "source": [
    "Functie 'calculateTensor' berekent het tensor product. \n",
    "\n",
    "Als bool=false dan wordt het tensor product van 'matrix' en tensor product (matrix, kansen) berekent. \n",
    "Als bool=true dan wordt het tensor product van 'matrix' en kansen berekent. "
   ]
  },
  {
   "cell_type": "code",
   "execution_count": 2,
   "metadata": {},
   "outputs": [],
   "source": [
    "import matplotlib.pyplot as plt\n",
    "\n",
    "hunger = []\n",
    "satisfaction = []\n",
    "rush = []\n",
    "sadness = []\n",
    "\n",
    "def appendTo(arr, appendArr):\n",
    "    for i in range(len(appendArr)):\n",
    "        appendArr[i].append(arr[i])\n",
    "\n",
    "def resetArrs(arr):\n",
    "    for i in range(len(arr)):\n",
    "        arr[i].clear()"
   ]
  },
  {
   "cell_type": "markdown",
   "metadata": {},
   "source": [
    "Arrays 'hunger', 'satisfaction', 'rush' en 'sadness' worden gebruikt om de kansen over de tijd op te slaan voor iedere state. \n",
    "\n",
    "Functie 'appendTo' neemt een array 'arr' en een array 'appendArr' aan. 'arr' is een array met getallen. 'appendArr' is een array met arrays. Iedere waarde in 'arr' wordt aan de juiste array in 'appendArr' toegevoegd. \n",
    "\n",
    "Functie 'resetArrs' reset een set arrays, zodat deze allemaal weer leeg zijn. "
   ]
  },
  {
   "cell_type": "code",
   "execution_count": 3,
   "metadata": {},
   "outputs": [],
   "source": [
    "def calculateOverTime(flumph, arr):\n",
    "    counter = 0\n",
    "    newStart, index = flumph.calculateChances(flumph.born)\n",
    "    days = []\n",
    "    while counter < 20:\n",
    "        counter += 1\n",
    "        newStart, index = flumph.calculateChances(newStart)\n",
    "        print(\"Current state:\", flumph.states[index])\n",
    "        appendTo(newStart, arr)\n",
    "        days.append(counter)\n",
    "\n",
    "\n",
    "    plt.plot(days, hunger, label=\"Hunger\")\n",
    "    plt.plot(days, satisfaction, label=\"Satisfaction\")\n",
    "    plt.plot(days, rush, label=\"Rush\")\n",
    "    plt.xlabel(\"Days\")\n",
    "    plt.ylabel(\"Chance\")\n",
    "    plt.legend()\n",
    "    plt.show()\n",
    "\n",
    "    resetArrs(arr)"
   ]
  },
  {
   "cell_type": "markdown",
   "metadata": {},
   "source": [
    "Functie 'calculateOverTime' berekent de kansen voor iedere staat iedere dag, tot dag 20. De functie neemt een flumph en een array aan. \n",
    "\n",
    "Eerst berekent de functie de staat van de Flumph na de geboorte. Daarna wordt voor iedere dag de kansen van iedere staat berekent en uitgeprint. Deze kansen worden daarna toegevoegd aan de arrays in 'arr'. \n",
    "\n",
    "Op het eind worden de resultaten geplot en worden alle arrays in 'arr' gereset. "
   ]
  },
  {
   "cell_type": "code",
   "execution_count": 4,
   "metadata": {},
   "outputs": [
    {
     "name": "stdout",
     "output_type": "stream",
     "text": [
      "Current state: Rushed\n",
      "Current state: Hungry\n",
      "Current state: Satisfied\n",
      "Current state: Hungry\n",
      "Current state: Hungry\n",
      "Current state: Hungry\n",
      "Current state: Hungry\n",
      "Current state: Hungry\n",
      "Current state: Rushed\n",
      "Current state: Hungry\n",
      "Current state: Hungry\n",
      "Current state: Hungry\n",
      "Current state: Hungry\n",
      "Current state: Hungry\n",
      "Current state: Rushed\n",
      "Current state: Hungry\n",
      "Current state: Hungry\n",
      "Current state: Rushed\n",
      "Current state: Hungry\n",
      "Current state: Hungry\n"
     ]
    },
    {
     "data": {
      "image/png": "[encoded data removed]",
      "text/plain": [
       "<Figure size 432x288 with 1 Axes>"
      ]
     },
     "metadata": {
      "needs_background": "light"
     },
     "output_type": "display_data"
    }
   ],
   "source": [
    "#PART 1\n",
    "chances = [\n",
    "    [.8, .1, .1], #hungry today\n",
    "    [.4, .5, .1], #satisfied today\n",
    "    [.6, .2, .2]] #rushed today\n",
    "\n",
    "newBorn = [0.1, 0.7, 0.2]\n",
    "\n",
    "newFlumph = Flumph(newBorn, chances)\n",
    "calculateOverTime(newFlumph, [hunger, satisfaction, rush])"
   ]
  },
  {
   "cell_type": "markdown",
   "metadata": {},
   "source": [
    "De kansen matrix en de originele kans vector voor deel 1 van de opdracht zijn hier aangemaakt. Ook wordt hier onze eerste Flumph aangemaakt. Bij deze Flumph wordt alleen gelet op 3 states: hunger, satisfaction, rush. "
   ]
  },
  {
   "cell_type": "code",
   "execution_count": 5,
   "metadata": {},
   "outputs": [
    {
     "name": "stdout",
     "output_type": "stream",
     "text": [
      "Current state: Hungry\n",
      "Current state: Hungry\n",
      "Current state: Rushed\n",
      "Current state: Rushed\n",
      "Current state: Sad\n",
      "Current state: Hungry\n",
      "Current state: Rushed\n",
      "Current state: Rushed\n",
      "Current state: Sad\n",
      "Current state: Rushed\n",
      "Current state: Hungry\n",
      "Current state: Hungry\n",
      "Current state: Hungry\n",
      "Current state: Hungry\n",
      "Current state: Sad\n",
      "Current state: Sad\n",
      "Current state: Satisfied\n",
      "Current state: Hungry\n",
      "Current state: Satisfied\n",
      "Current state: Hungry\n"
     ]
    },
    {
     "data": {
      "image/png": "[encoded data removed]",
      "text/plain": [
       "<Figure size 432x288 with 1 Axes>"
      ]
     },
     "metadata": {
      "needs_background": "light"
     },
     "output_type": "display_data"
    }
   ],
   "source": [
    "#PART 2\n",
    "newChances = [\n",
    "    [.1, .1, .5, .3], #sad today\n",
    "    [.7, .1, .1, .1], #hungry today\n",
    "    [.3, .5, .1, .1], #satisfied today\n",
    "    [.3, .1, .2, .4]  #rushed today\n",
    "]\n",
    "\n",
    "newBorn2 = [.1, .6, .2, .1]\n",
    "\n",
    "newFlumph2 = Flumph(newBorn2, newChances)\n",
    "calculateOverTime(newFlumph2, [hunger, satisfaction, rush, sadness])"
   ]
  },
  {
   "cell_type": "markdown",
   "metadata": {},
   "source": [
    "De kansen matrix en de originele kans vector voor deel 2 van de opdracht zijn hier aangemaakt. Bij deze Flumph wordt gelet op 4 states: sadness, hunger, satisfaction, rush. "
   ]
  },
  {
   "cell_type": "code",
   "execution_count": 6,
   "metadata": {},
   "outputs": [
    {
     "name": "stdout",
     "output_type": "stream",
     "text": [
      "[[0.008 0.001 0.001 0.004 0.005 0.001 0.006 0.002 0.002 0.056 0.007 0.007\n",
      "  0.028 0.035 0.007 0.042 0.014 0.014 0.016 0.002 0.002 0.008 0.01  0.002\n",
      "  0.012 0.004 0.004]\n",
      " [0.056 0.007 0.007 0.028 0.035 0.007 0.042 0.014 0.014 0.392 0.049 0.049\n",
      "  0.196 0.245 0.049 0.294 0.098 0.098 0.112 0.014 0.014 0.056 0.07  0.014\n",
      "  0.084 0.028 0.028]\n",
      " [0.016 0.002 0.002 0.008 0.01  0.002 0.012 0.004 0.004 0.112 0.014 0.014\n",
      "  0.056 0.07  0.014 0.084 0.028 0.028 0.032 0.004 0.004 0.016 0.02  0.004\n",
      "  0.024 0.008 0.008]]\n",
      "\n",
      "[[0.08 0.01 0.01 0.04 0.05 0.01 0.06 0.02 0.02]\n",
      " [0.56 0.07 0.07 0.28 0.35 0.07 0.42 0.14 0.14]\n",
      " [0.16 0.02 0.02 0.08 0.1  0.02 0.12 0.04 0.04]]\n"
     ]
    }
   ],
   "source": [
    "print(newFlumph.calculateTensor(newFlumph.born))\n",
    "print()\n",
    "print(newFlumph.calculateTensor(newFlumph.born, True))"
   ]
  },
  {
   "cell_type": "markdown",
   "metadata": {},
   "source": [
    "Het tensor product is het combineren van twee vector ruimten tot een nieuwe vector ruimte. Het cartetisch product van beide vectoren wordt berekent. Cartetisch product = geordende paren (x, y), (y, x). \n",
    "\n",
    "Bij eindigdimensionale vectorruimten geldt: dim V ⊗ dim W = dim V x dim W \n",
    "\n",
    "M ⊗ v: \n",
    ".1 x .8 = .08\n",
    ".1 x .1 = .01\n",
    ".1 x .1 = .01\n",
    "etc. \n",
    ".7 x .8 = .56\n",
    ".7 x .1 = .07\n",
    ".7 x .1 = .07\n",
    "etc. \n",
    "\n",
    "Ieder getal in de Matrix wordt vermenigvuldigd met ieder getal in de vector. Het eerste getal in de vector wordt met alle getallen in de Matrix vermenigvuldigd, daarna wordt het tweede getal in de vector met alle getallen in de Matrix vermenigvuldigd etc. \n",
    "\n",
    "M ⊗ (M ⊗ v): Eerst wordt M ⊗ v berekent, wat dus precies hetzelfde is als hierboven beschreven. Laten we de uitkomst van    M ⊗ v, X noemen. Vervolgens wordt M ⊗ X gedaan. Dan wordt eigenlijk weer hetzelfde gedaan als hierboven beschreven. "
   ]
  },
  {
   "cell_type": "code",
   "execution_count": null,
   "metadata": {},
   "outputs": [],
   "source": []
  }
 ],
 "metadata": {
  "kernelspec": {
   "display_name": "Python 3",
   "language": "python",
   "name": "python3"
  },
  "language_info": {
   "codemirror_mode": {
    "name": "ipython",
    "version": 3
   },
   "file_extension": ".py",
   "mimetype": "text/x-python",
   "name": "python",
   "nbconvert_exporter": "python",
   "pygments_lexer": "ipython3",
   "version": "3.6.7"
  }
 },
 "nbformat": 4,
 "nbformat_minor": 2
}
